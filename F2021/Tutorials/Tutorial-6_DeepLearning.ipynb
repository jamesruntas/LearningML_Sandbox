{
 "cells": [
  {
   "cell_type": "markdown",
   "metadata": {
    "id": "view-in-github"
   },
   "source": [
    "# Tutorial 6 - Deep Learning\n",
    "\n",
    "**Course:** SYS 4415 - Introduuction to Machine Learning\n",
    "\n",
    "**Semester:** Fall 2021\n",
    "\n",
    "**Adapted by:** [Kevin Dick](https://kevindick.ai/)\n",
    "\n",
    "**Adapted from:** [Keras v. TensorFlow Tutorial](https://www.pyimagesearch.com/2018/10/08/keras-vs-tensorflow-which-one-is-better-and-which-one-should-i-learn/) and [LSTM Neural Network to Predict the Stock Market](https://github.com/jaungiers/LSTM-Neural-Network-for-Time-Series-Prediction)\n",
    "\n",
    "---\n",
    "\n",
    "In this two-part notebook, we will demonstrate the creation of a Convolutional Neural Network classifier (part I) and a Long-Short Term Memory (LSTM) Recurrent Neuural Network classifier (part II):\n",
    "\n",
    "**Part 0: Introduction to the Keras API**\n",
    "\n",
    "**Part I: CNN for CIFAR-10 Classification**\n",
    "1. load a benchmark computer vision dataset (CIFAR-10)\n",
    "2. create a VGGNet-like architecture\n",
    "3. train, evaluate, and test the model on the CIFAR-10 benchmark\n",
    "**Part II: LSTM for Stock Market Prediction** \n",
    "1. load historical stock data for a given ticker symbol\n",
    "2. normalize stock data within a given window\n",
    "3. create an LSTM model and fit it to training data\n",
    "4. generate and plot predictions over future\n",
    "\n",
    "---\n",
    "# Part 0: Introduction to the Keras API\n",
    "\n",
    "## Keras: The Python Deep Learning API\n",
    "\n",
    "Keras is the **high-level API of TensorFlow 2.0**, meant to be an approchable and highly-productive interface for solving machine learning problems, with a focus on modern deep learning. It **provides essential abstractions** and building blocks for developing and shipping machine learning solutions with high iteration velocity.\n",
    "\n",
    "## The Convolutional Neural Network (CNN)\n",
    "\n",
    "In deep learning, a convolutional neural network (CNN, or ConvNet) is a class of deep neural networks, **most commonly applied to analyzing visual imagery**. They are also known as **shift invariant** or **space invariant artificial neural networks**, based on their shared-weights architecture and translation invariance characteristics.\n",
    "\n",
    "In this tutorial, we will implement a VGG-type CNN based on the work of the **V**isual **G**eometry **G**roup at the University of Oxford. Several pre-trained model architectures and learned weights are easily downloadable from the Keras library, such as the **VGG-16 model**.\n",
    "\n",
    "**Additional Reading**: [10 Illustrated CNN Architectures](https://towardsdatascience.com/illustrated-10-cnn-architectures-95d78ace614d)\n",
    "\n",
    "---\n",
    "\n",
    "When first learning to create deep learning models, it is important to understand the role of each type of layer; familiairization of the **[Keras API documentation](https://keras.io/api/layers/))** is one of the best approaches!\n",
    "\n",
    "For convenience, three of the **[Core Layers](https://keras.io/api/layers/core_layers/)** covered in part I of this tutorial are replicated here:\n",
    "\n",
    "### Keras Layers: **[Input Object](https://keras.io/api/layers/core_layers/input/)**\n",
    "\n",
    "```python\n",
    "tf.keras.Input(\n",
    "    shape=None,     # A shape tuple (integers), not including the batch size. For instance, shape=(32,) indicates that the expected input will be batches of 32-dimensional vectors.\n",
    "    batch_size=None,# optional static batch size (integer).\n",
    "    name=None,      # An optional name string for the layer. Should be unique in a model (do not reuse the same name twice).\n",
    "    dtype=None,     # The data type expected by the input, as a string (float32, float64, int32...)\n",
    "    sparse=False,   # A boolean specifying whether the placeholder to be created is sparse. \n",
    "    tensor=None,    # Optional existing tensor to wrap into the Input layer. \n",
    "    ragged=False,   # A boolean specifying whether the placeholder to be created is ragged.\n",
    "    **kwargs\n",
    ")\n",
    "```\n",
    "\n",
    "### Keras Layers: **[Dense Layer](https://keras.io/api/layers/core_layers/dense/)**\n",
    "\n",
    "\n",
    "```python\n",
    "tf.keras.layers.Dense(\n",
    "    units,                              # Positive integer, dimensionality of the output space.\n",
    "    activation=None,                    # Activation function to use. If you don't specify anything, no activation is applied (ie. \"linear\" activation: a(x) = x).\n",
    "    use_bias=True,                      # Boolean, whether the layer uses a bias vector.\n",
    "    kernel_initializer=\"glorot_uniform\",# Initializer for the kernel weights matrix.\n",
    "    bias_initializer=\"zeros\",           # Initializer for the bias vector.\n",
    "    kernel_regularizer=None,            # Regularizer function applied to the kernel weights matrix. \n",
    "    bias_regularizer=None,              # Regularizer function applied to the bias vector.\n",
    "    activity_regularizer=None,          # Regularizer function applied to the output of the layer (its \"activation\").\n",
    "    kernel_constraint=None,             # Constraint function applied to the kernel weights matrix.\n",
    "    bias_constraint=None,               # Constraint function applied to the bias vector.\n",
    "    **kwargs\n",
    ")\n",
    "```\n",
    "\n",
    "### Keras Layers: **[Activation Layer](https://keras.io/api/layers/core_layers/activation/)**\n",
    "```python\n",
    "tf.keras.layers.Activation(\n",
    "  activation, # Activation function, such as tf.nn.relu, or string name of built-in activation function, such as \"relu\"\n",
    "  **kwargs\n",
    ")\n",
    "```\n",
    "\n",
    "---\n",
    "\n",
    "# Part I: Building a VGG16 CNN Classifer for the the CIFAR-10 Dataset\n",
    "\n",
    "- VGG16 developed by the VGG (Visual Geometry Group, University of Oxford) for the ILSVRC-2014 competition. \n",
    "- Published at: [Very Deep Convolutional Networks for Large-Scale Image Recognition](https://arxiv.org/abs/1409.1556)\n",
    "- Note that VGG16 is available (pre-trained) through Keras.applications\n",
    "\n",
    "```python\n",
    "        from keras.applications import VGG16\n",
    "        VGG16.summary() # Print a summary of the network structure\n",
    "```\n",
    "    \n",
    "- VGGNet-like architectures are characterized by: \n",
    "    1. Using only 3×3 convolutional layers stacked on top of each other in increasing depth\n",
    "    2. Reducing volume size by max pooling\n",
    "    3. Fully-connected layers at the end of the network prior to a softmax classifier\n",
    "\n",
    "\n",
    "### The CIFAR-10 Dataset\n",
    "\n",
    "**Fun Fact:** CIFAR = \"Canadian Institute For Advanced Research\"\n",
    "\n",
    "A **benchmark dataset** is a reference database against which learning models are evaluated and performance assessed to determine whether or not a given approach is superior over another.\n",
    "\n",
    "The CIFAR-10 dataset consists of 60,000 32x32 colour images in 10 classes, with 6,000 images per class. There are 50,000 training images and 10,000 test images.\n",
    "\n",
    "The classes are: [\"airplane\", \"automobile\", \"bird\", \"cat\", \"deer\", \"dog\", \"frog\", \"horse\", \"ship\", \"truck\"]\n",
    "\n",
    "![CIFAR-10](https://raw.githubusercontent.com/dmlc/web-data/master/gluoncv/datasets/cifar10.png)\n",
    "\n",
    "The dataset is divided into **five training batches and one test batch**, each with 10,000 images. The **test batch contains exactly 1,000 randomly-selected images from each class**. The training batches contain the remaining images in random order, but some training batches may contain more images from one class than another. Between them, the training batches contain exactly 5,000 images from each class.\n",
    "\n",
    "Published at: https://www.cs.toronto.edu/~kriz/cifar.html\n",
    "\n",
    "---\n",
    "\n",
    "### Hardware Acceleration: Enabling the Collab GPU\n",
    "\n",
    "To accelerate the training-phase and inference-phase of deep learning models, Google collab provides GPUs which greatly accellerates model development.\n",
    "\n",
    "For example, using CPU alone, each epoch of the CNN would require ~450 seconds whereas with GPU each only requires ~7s.\n",
    "\n",
    "To verify whether GPUs are enabled:  `Runtime` $\\rightarrow$ `Change runtime type` $\\rightarrow$ `Hardware accelerator`"
   ]
  },
  {
   "cell_type": "code",
   "execution_count": 1,
   "metadata": {
    "executionInfo": {
     "elapsed": 619,
     "status": "ok",
     "timestamp": 1635352389231,
     "user": {
      "displayName": "Victoria Ajila",
      "photoUrl": "https://lh3.googleusercontent.com/a/default-user=s64",
      "userId": "03727961744353051498"
     },
     "user_tz": 240
    },
    "id": "qT5h_hOcPNsr"
   },
   "outputs": [],
   "source": [
    "# import the necessary packages\n",
    "from tensorflow.keras.layers import BatchNormalization\n",
    "from keras.layers.convolutional import Conv2D\n",
    "from keras.layers.convolutional import MaxPooling2D\n",
    "from keras.layers.core import Activation\n",
    "from keras.layers.core import Dropout\n",
    "from keras.layers.core import Dense\n",
    "from keras.layers import Flatten\n",
    "from keras.layers import Input\n",
    "from keras.models import Model\n",
    "from tensorflow.keras.optimizers import SGD\n",
    "\n",
    "from sklearn.preprocessing import LabelBinarizer # For 1-hot encoding of 10 class labels\n",
    "from keras.datasets import cifar10  \t\t\t\t\t\t # Built-in dataset of images.\n",
    "from sklearn.metrics import classification_report\n",
    "\n",
    "import matplotlib\n",
    "%matplotlib inline\n",
    "import matplotlib.pyplot as plt\n",
    "import numpy as np"
   ]
  },
  {
   "cell_type": "markdown",
   "metadata": {
    "id": "VaC0vSNCz1zm"
   },
   "source": [
    "### Define the \"MiniVGGnetKeras\" Class \n",
    "\n",
    "The \"MiniVGGNetKeras\" class that will build the VGG deep net when `.build()` is invoked upon an instance of this class object."
   ]
  },
  {
   "cell_type": "code",
   "execution_count": 2,
   "metadata": {
    "executionInfo": {
     "elapsed": 440,
     "status": "ok",
     "timestamp": 1635352391933,
     "user": {
      "displayName": "Victoria Ajila",
      "photoUrl": "https://lh3.googleusercontent.com/a/default-user=s64",
      "userId": "03727961744353051498"
     },
     "user_tz": 240
    },
    "id": "CSnX1H7l3Dpy"
   },
   "outputs": [],
   "source": [
    "# Define a class to represent the VGG-type network. Instantiate using build()\n",
    "class MiniVGGNetKeras:\n",
    "\t@staticmethod\n",
    "\tdef build(width, height, depth, classes):\n",
    "\t\t# initialize the input shape and channel dimension, assuming\n",
    "\t\t# TensorFlow/channels-last ordering\n",
    "\t\tinputShape = (height, width, depth)\n",
    "\t\tchanDim = -1\n",
    " \n",
    "\t\t# define the model input (layer)\n",
    "\t\tinputs = Input(shape=inputShape)\n",
    "  \n",
    "  \t# first (CONV => RELU) * 2 => POOL layer set\n",
    "\t\tx = Conv2D(32, (3, 3), padding=\"same\")(inputs) # padding=same --> output same size as input by padding by filter/2 rows/cols of zeros\n",
    "\t\tx = Activation(\"relu\")(x) \t\t\t\t\t\t\t\t\t\t # Add a rectified linear unit activation function to each conv layer\n",
    "\t\tx = BatchNormalization(axis=chanDim)(x)  \t\t\t # Use batch normalization. We will talk about this later\n",
    "\t\tx = Conv2D(32, (3, 3), padding=\"same\")(x)\n",
    "\t\tx = Activation(\"relu\")(x)\n",
    "\t\tx = BatchNormalization(axis=chanDim)(x)\n",
    "\t\tx = MaxPooling2D(pool_size=(2, 2))(x) \t\t\t\t\t# MaxPooling uased after the first 2 conv layers. Reduces size of subsequent layers by down-sampling\n",
    "\t\tx = Dropout(0.25)(x)  \t\t\t\t\t\t\t\t\t\t\t\t\t# Dropout used to promote generalization. We'll talk about this layer type later in the course...\n",
    " \n",
    "\t\t# second (CONV => RELU) * 2 => POOL layer set\n",
    "\t\tx = Conv2D(64, (3, 3), padding=\"same\")(x)\n",
    "\t\tx = Activation(\"relu\")(x)\n",
    "\t\tx = BatchNormalization(axis=chanDim)(x)\n",
    "\t\tx = Conv2D(64, (3, 3), padding=\"same\")(x)\n",
    "\t\tx = Activation(\"relu\")(x)\n",
    "\t\tx = BatchNormalization(axis=chanDim)(x)\n",
    "\t\tx = MaxPooling2D(pool_size=(2, 2))(x)\n",
    "\t\tx = Dropout(0.25)(x)\n",
    "  \n",
    "    # first (and only) set of FC => RELU layers\n",
    "\t\tx = Flatten()(x)  # Flatten the 2D maxPooling2D layer to feed into a fully-connected layer\n",
    "\t\tx = Dense(512)(x)\n",
    "\t\tx = Activation(\"relu\")(x)\n",
    "\t\tx = BatchNormalization()(x)\n",
    "\t\tx = Dropout(0.5)(x)\n",
    " \n",
    "\t\t# Softmax classifier layer for arriving at normalized prediction scores for multi-class problem. \n",
    "    # Softmax assigns decimal probabilities to each class in a multi-class problem. Those decimal probabilities must add up to 1.0.\n",
    "    # Only makes sense when each image is expected to represent a single class (not a dog & a cat simultaneously)\n",
    "\t\tx = Dense(classes)(x)\n",
    "\t\tx = Activation(\"softmax\")(x)\n",
    " \n",
    "\t\t# create the model and give it a unique name\n",
    "\t\tmodel = Model(inputs, x, name=\"minivggnet_keras\")\n",
    " \n",
    "\t\t# return the constructed network architecture\n",
    "\t\treturn model"
   ]
  },
  {
   "cell_type": "markdown",
   "metadata": {
    "id": "QBlf-SNB0a3T"
   },
   "source": [
    "# Download and prepare the CIFAR-10 dataset"
   ]
  },
  {
   "cell_type": "code",
   "execution_count": 3,
   "metadata": {
    "colab": {
     "base_uri": "https://localhost:8080/"
    },
    "executionInfo": {
     "elapsed": 11411,
     "status": "ok",
     "timestamp": 1635352290494,
     "user": {
      "displayName": "Victoria Ajila",
      "photoUrl": "https://lh3.googleusercontent.com/a/default-user=s64",
      "userId": "03727961744353051498"
     },
     "user_tz": 240
    },
    "id": "tNIPZtw30ejP",
    "outputId": "f0d8cd95-1514-4883-b7f1-c7e33f8c1a6a"
   },
   "outputs": [
    {
     "name": "stdout",
     "output_type": "stream",
     "text": [
      "[INFO] loading CIFAR-10 data...\n"
     ]
    }
   ],
   "source": [
    "# load the training and testing data, then scale it into the range [0, 1]\n",
    "print(\"[INFO] loading CIFAR-10 data...\")\n",
    "((trainX, trainY), (testX, testY)) = cifar10.load_data()\n",
    "trainX = trainX.astype(\"float\") / 255.0\n",
    "testX  = testX.astype(\"float\") / 255.0\n",
    " \n",
    "# convert the labels from integers to vectors\n",
    "lb = LabelBinarizer()\n",
    "trainY = lb.fit_transform(trainY)\n",
    "testY = lb.transform(testY)\n",
    " \n",
    "# initialize the label names for the CIFAR-10 dataset\n",
    "labelNames = [\"airplane\", \"automobile\", \"bird\", \"cat\", \"deer\",\n",
    "\t\"dog\", \"frog\", \"horse\", \"ship\", \"truck\"]\n"
   ]
  },
  {
   "cell_type": "markdown",
   "metadata": {
    "id": "ME1RYqOJz-9O"
   },
   "source": [
    "# Build and train a VGG16 model using the CIFAR-10 dataset"
   ]
  },
  {
   "cell_type": "code",
   "execution_count": 4,
   "metadata": {
    "colab": {
     "base_uri": "https://localhost:8080/"
    },
    "executionInfo": {
     "elapsed": 943,
     "status": "ok",
     "timestamp": 1635352403797,
     "user": {
      "displayName": "Victoria Ajila",
      "photoUrl": "https://lh3.googleusercontent.com/a/default-user=s64",
      "userId": "03727961744353051498"
     },
     "user_tz": 240
    },
    "id": "o1Znz2OktTPY",
    "outputId": "33a014fa-317d-42a7-a7c5-bd7ba9b92ac9"
   },
   "outputs": [
    {
     "name": "stdout",
     "output_type": "stream",
     "text": [
      "[INFO] compiling model...\n"
     ]
    },
    {
     "name": "stderr",
     "output_type": "stream",
     "text": [
      "/usr/local/lib/python3.9/site-packages/keras/optimizer_v2/optimizer_v2.py:355: UserWarning: The `lr` argument is deprecated, use `learning_rate` instead.\n",
      "  warnings.warn(\n"
     ]
    },
    {
     "name": "stdout",
     "output_type": "stream",
     "text": [
      "Model: \"minivggnet_keras\"\n",
      "_________________________________________________________________\n",
      "Layer (type)                 Output Shape              Param #   \n",
      "=================================================================\n",
      "input_1 (InputLayer)         [(None, 32, 32, 3)]       0         \n",
      "_________________________________________________________________\n",
      "conv2d (Conv2D)              (None, 32, 32, 32)        896       \n",
      "_________________________________________________________________\n",
      "activation (Activation)      (None, 32, 32, 32)        0         \n",
      "_________________________________________________________________\n",
      "batch_normalization (BatchNo (None, 32, 32, 32)        128       \n",
      "_________________________________________________________________\n",
      "conv2d_1 (Conv2D)            (None, 32, 32, 32)        9248      \n",
      "_________________________________________________________________\n",
      "activation_1 (Activation)    (None, 32, 32, 32)        0         \n",
      "_________________________________________________________________\n",
      "batch_normalization_1 (Batch (None, 32, 32, 32)        128       \n",
      "_________________________________________________________________\n",
      "max_pooling2d (MaxPooling2D) (None, 16, 16, 32)        0         \n",
      "_________________________________________________________________\n",
      "dropout (Dropout)            (None, 16, 16, 32)        0         \n",
      "_________________________________________________________________\n",
      "conv2d_2 (Conv2D)            (None, 16, 16, 64)        18496     \n",
      "_________________________________________________________________\n",
      "activation_2 (Activation)    (None, 16, 16, 64)        0         \n",
      "_________________________________________________________________\n",
      "batch_normalization_2 (Batch (None, 16, 16, 64)        256       \n",
      "_________________________________________________________________\n",
      "conv2d_3 (Conv2D)            (None, 16, 16, 64)        36928     \n",
      "_________________________________________________________________\n",
      "activation_3 (Activation)    (None, 16, 16, 64)        0         \n",
      "_________________________________________________________________\n",
      "batch_normalization_3 (Batch (None, 16, 16, 64)        256       \n",
      "_________________________________________________________________\n",
      "max_pooling2d_1 (MaxPooling2 (None, 8, 8, 64)          0         \n",
      "_________________________________________________________________\n",
      "dropout_1 (Dropout)          (None, 8, 8, 64)          0         \n",
      "_________________________________________________________________\n",
      "flatten (Flatten)            (None, 4096)              0         \n",
      "_________________________________________________________________\n",
      "dense (Dense)                (None, 512)               2097664   \n",
      "_________________________________________________________________\n",
      "activation_4 (Activation)    (None, 512)               0         \n",
      "_________________________________________________________________\n",
      "batch_normalization_4 (Batch (None, 512)               2048      \n",
      "_________________________________________________________________\n",
      "dropout_2 (Dropout)          (None, 512)               0         \n",
      "_________________________________________________________________\n",
      "dense_1 (Dense)              (None, 10)                5130      \n",
      "_________________________________________________________________\n",
      "activation_5 (Activation)    (None, 10)                0         \n",
      "=================================================================\n",
      "Total params: 2,171,178\n",
      "Trainable params: 2,169,770\n",
      "Non-trainable params: 1,408\n",
      "_________________________________________________________________\n",
      "None\n"
     ]
    }
   ],
   "source": [
    "# initialize the initial learning rate, total number of epochs to\n",
    "# train for, and batch size\n",
    "INIT_LR = 0.01\n",
    "EPOCHS = 30 # Each epoch takes 450s using CPU and only ~30s using GPU (Runtime->Change runtime->EnableGPU)\n",
    "BS = 32\n",
    " \n",
    "# initialize the optimizer and model\n",
    "print(\"[INFO] compiling model...\")\n",
    "opt = SGD(lr=INIT_LR, decay=INIT_LR / EPOCHS)\n",
    "model = MiniVGGNetKeras.build(width=32, height=32, depth=3, classes=len(labelNames))\n",
    "model.compile(loss=\"categorical_crossentropy\", optimizer=opt, metrics=[\"accuracy\"])\n",
    "\n",
    "# Visualize the network structure (image is cropped unfortunately...)\n",
    "#from IPython.display import SVG\n",
    "#from keras.utils.vis_utils import model_to_dot\n",
    "#SVG(model_to_dot(model).create(prog='dot', format='svg'))\n",
    "print(model.summary())"
   ]
  },
  {
   "cell_type": "code",
   "execution_count": 5,
   "metadata": {
    "colab": {
     "base_uri": "https://localhost:8080/"
    },
    "executionInfo": {
     "elapsed": 685863,
     "status": "ok",
     "timestamp": 1635353101943,
     "user": {
      "displayName": "Victoria Ajila",
      "photoUrl": "https://lh3.googleusercontent.com/a/default-user=s64",
      "userId": "03727961744353051498"
     },
     "user_tz": 240
    },
    "id": "kKoxYc5f8_9y",
    "outputId": "c0c0133b-f7c3-473e-e676-41922e1b4662",
    "pycharm": {
     "is_executing": true
    }
   },
   "outputs": [
    {
     "name": "stdout",
     "output_type": "stream",
     "text": [
      "[INFO] training network for 30 epochs...\n",
      "Epoch 1/30\n",
      "1563/1563 [==============================] - 331s 210ms/step - loss: 1.7444 - accuracy: 0.4253 - val_loss: 1.3301 - val_accuracy: 0.5273\n",
      "Epoch 2/30\n",
      "1563/1563 [==============================] - 326s 208ms/step - loss: 1.2436 - accuracy: 0.5566 - val_loss: 1.1849 - val_accuracy: 0.5753\n",
      "Epoch 3/30\n",
      "1563/1563 [==============================] - 314s 201ms/step - loss: 1.1013 - accuracy: 0.6112 - val_loss: 0.9835 - val_accuracy: 0.6538\n",
      "Epoch 4/30\n",
      "1563/1563 [==============================] - 311s 199ms/step - loss: 1.0319 - accuracy: 0.6355 - val_loss: 0.9653 - val_accuracy: 0.6576\n",
      "Epoch 5/30\n",
      "1563/1563 [==============================] - 344s 220ms/step - loss: 0.9947 - accuracy: 0.6493 - val_loss: 0.9220 - val_accuracy: 0.6698\n",
      "Epoch 6/30\n",
      "1563/1563 [==============================] - 360s 230ms/step - loss: 0.9618 - accuracy: 0.6625 - val_loss: 0.8791 - val_accuracy: 0.6913\n",
      "Epoch 7/30\n",
      "1563/1563 [==============================] - 335s 214ms/step - loss: 0.9357 - accuracy: 0.6691 - val_loss: 0.8588 - val_accuracy: 0.6995\n",
      "Epoch 8/30\n",
      "1563/1563 [==============================] - 355s 227ms/step - loss: 0.9187 - accuracy: 0.6748 - val_loss: 0.8426 - val_accuracy: 0.7064\n",
      "Epoch 9/30\n",
      "1563/1563 [==============================] - 331s 212ms/step - loss: 0.8969 - accuracy: 0.6843 - val_loss: 0.8403 - val_accuracy: 0.7065\n",
      "Epoch 10/30\n",
      "1563/1563 [==============================] - 334s 214ms/step - loss: 0.8811 - accuracy: 0.6903 - val_loss: 0.8373 - val_accuracy: 0.7107\n",
      "Epoch 11/30\n",
      "1563/1563 [==============================] - 396s 253ms/step - loss: 0.8708 - accuracy: 0.6917 - val_loss: 0.8285 - val_accuracy: 0.7099\n",
      "Epoch 12/30\n",
      "1563/1563 [==============================] - 310s 199ms/step - loss: 0.8619 - accuracy: 0.6967 - val_loss: 0.7932 - val_accuracy: 0.7210\n",
      "Epoch 13/30\n",
      "1563/1563 [==============================] - 304s 194ms/step - loss: 0.8523 - accuracy: 0.6989 - val_loss: 0.7887 - val_accuracy: 0.7272\n",
      "Epoch 14/30\n",
      "1563/1563 [==============================] - 299s 192ms/step - loss: 0.8374 - accuracy: 0.7057 - val_loss: 0.7928 - val_accuracy: 0.7260\n",
      "Epoch 15/30\n",
      "1563/1563 [==============================] - 309s 198ms/step - loss: 0.8317 - accuracy: 0.7058 - val_loss: 0.7796 - val_accuracy: 0.7287\n",
      "Epoch 16/30\n",
      "1563/1563 [==============================] - 306s 196ms/step - loss: 0.8227 - accuracy: 0.7105 - val_loss: 0.7707 - val_accuracy: 0.7347\n",
      "Epoch 17/30\n",
      "1563/1563 [==============================] - 314s 201ms/step - loss: 0.8194 - accuracy: 0.7089 - val_loss: 0.7675 - val_accuracy: 0.7330\n",
      "Epoch 18/30\n",
      "1563/1563 [==============================] - 208s 133ms/step - loss: 0.8130 - accuracy: 0.7127 - val_loss: 0.7642 - val_accuracy: 0.7386\n",
      "Epoch 19/30\n",
      "1563/1563 [==============================] - 184s 118ms/step - loss: 0.8120 - accuracy: 0.7149 - val_loss: 0.7443 - val_accuracy: 0.7391\n",
      "Epoch 20/30\n",
      "1563/1563 [==============================] - 182s 117ms/step - loss: 0.8035 - accuracy: 0.7167 - val_loss: 0.7595 - val_accuracy: 0.7374\n",
      "Epoch 21/30\n",
      "1563/1563 [==============================] - 182s 117ms/step - loss: 0.7983 - accuracy: 0.7186 - val_loss: 0.7461 - val_accuracy: 0.7405\n",
      "Epoch 22/30\n",
      "1563/1563 [==============================] - 188s 121ms/step - loss: 0.7935 - accuracy: 0.7215 - val_loss: 0.7389 - val_accuracy: 0.7432\n",
      "Epoch 23/30\n",
      "1563/1563 [==============================] - 185s 118ms/step - loss: 0.7862 - accuracy: 0.7224 - val_loss: 0.7464 - val_accuracy: 0.7408\n",
      "Epoch 24/30\n",
      "1563/1563 [==============================] - 183s 117ms/step - loss: 0.7876 - accuracy: 0.7227 - val_loss: 0.7409 - val_accuracy: 0.7418\n",
      "Epoch 25/30\n",
      "1563/1563 [==============================] - 180s 115ms/step - loss: 0.7804 - accuracy: 0.7250 - val_loss: 0.7616 - val_accuracy: 0.7368\n",
      "Epoch 26/30\n",
      "1563/1563 [==============================] - 181s 116ms/step - loss: 0.7791 - accuracy: 0.7238 - val_loss: 0.7379 - val_accuracy: 0.7459\n",
      "Epoch 27/30\n",
      "1563/1563 [==============================] - 183s 117ms/step - loss: 0.7724 - accuracy: 0.7292 - val_loss: 0.7338 - val_accuracy: 0.7451\n",
      "Epoch 28/30\n",
      "1563/1563 [==============================] - 184s 118ms/step - loss: 0.7682 - accuracy: 0.7292 - val_loss: 0.7326 - val_accuracy: 0.7451\n",
      "Epoch 29/30\n",
      "1563/1563 [==============================] - 185s 118ms/step - loss: 0.7686 - accuracy: 0.7309 - val_loss: 0.7279 - val_accuracy: 0.7460\n",
      "Epoch 30/30\n",
      "1563/1563 [==============================] - 186s 119ms/step - loss: 0.7601 - accuracy: 0.7311 - val_loss: 0.7200 - val_accuracy: 0.7504\n"
     ]
    }
   ],
   "source": [
    "# train the network\n",
    "print(\"[INFO] training network for {0:d} epochs...\".format(EPOCHS))\n",
    "H = model.fit(trainX, trainY, validation_data=(testX, testY),\n",
    "\tbatch_size=BS, epochs=EPOCHS, verbose=1)"
   ]
  },
  {
   "cell_type": "code",
   "execution_count": 6,
   "metadata": {
    "colab": {
     "base_uri": "https://localhost:8080/",
     "height": 294
    },
    "executionInfo": {
     "elapsed": 409,
     "status": "ok",
     "timestamp": 1635353102339,
     "user": {
      "displayName": "Victoria Ajila",
      "photoUrl": "https://lh3.googleusercontent.com/a/default-user=s64",
      "userId": "03727961744353051498"
     },
     "user_tz": 240
    },
    "id": "82Lvht-2w8RU",
    "outputId": "07baa84c-d801-40cf-fe62-f995c395f173",
    "pycharm": {
     "is_executing": true
    }
   },
   "outputs": [
    {
     "data": {
      "image/png": "[encoded data removed]",
      "text/plain": [
       "<Figure size 432x288 with 2 Axes>"
      ]
     },
     "metadata": {},
     "output_type": "display_data"
    }
   ],
   "source": [
    "# plot the training loss and accuracy\n",
    "plt.style.use(\"ggplot\")\n",
    "fig, (ax1, ax2) = plt.subplots(1, 2)\n",
    "fig.suptitle(\"Training Loss and Accuracy on Dataset\")\n",
    "ax1.plot(np.arange(0, EPOCHS), H.history[\"loss\"], label=\"train_loss\"); ax1.set_title('loss');\n",
    "ax1.plot(np.arange(0, EPOCHS), H.history[\"val_loss\"], label=\"val_loss\"); \n",
    "ax2.plot(np.arange(0, EPOCHS), H.history[\"accuracy\"], label=\"train_acc\"); ax2.set_title('acc');\n",
    "ax2.plot(np.arange(0, EPOCHS), H.history[\"val_accuracy\"], label=\"val_acc\"); \n",
    "plt.legend(bbox_to_anchor=(1.05, 1), loc='upper left', borderaxespad=0.)\n",
    "plt.show()"
   ]
  },
  {
   "cell_type": "markdown",
   "metadata": {
    "id": "fytqSXt01JXU"
   },
   "source": [
    "# Test the trained VGG16 network on the test data"
   ]
  },
  {
   "cell_type": "code",
   "execution_count": 7,
   "metadata": {
    "colab": {
     "base_uri": "https://localhost:8080/"
    },
    "executionInfo": {
     "elapsed": 1465,
     "status": "ok",
     "timestamp": 1635353103795,
     "user": {
      "displayName": "Victoria Ajila",
      "photoUrl": "https://lh3.googleusercontent.com/a/default-user=s64",
      "userId": "03727961744353051498"
     },
     "user_tz": 240
    },
    "id": "Z3E5lq9E1T9o",
    "outputId": "7f312830-4429-461a-ae4b-b1d574c955ee",
    "pycharm": {
     "is_executing": true
    }
   },
   "outputs": [
    {
     "name": "stdout",
     "output_type": "stream",
     "text": [
      "[INFO] evaluating network...\n",
      "              precision    recall  f1-score   support\n",
      "\n",
      "    airplane       0.82      0.71      0.77      1000\n",
      "  automobile       0.90      0.81      0.85      1000\n",
      "        bird       0.75      0.55      0.64      1000\n",
      "         cat       0.59      0.54      0.56      1000\n",
      "        deer       0.63      0.79      0.70      1000\n",
      "         dog       0.68      0.64      0.66      1000\n",
      "        frog       0.73      0.89      0.80      1000\n",
      "       horse       0.84      0.78      0.81      1000\n",
      "        ship       0.81      0.90      0.86      1000\n",
      "       truck       0.78      0.89      0.83      1000\n",
      "\n",
      "    accuracy                           0.75     10000\n",
      "   macro avg       0.75      0.75      0.75     10000\n",
      "weighted avg       0.75      0.75      0.75     10000\n",
      "\n"
     ]
    }
   ],
   "source": [
    "# evaluate the network\n",
    "print(\"[INFO] evaluating network...\")\n",
    "predictions = model.predict(testX, batch_size=32)\n",
    "print(classification_report(testY.argmax(axis=1),  ## classification_report() outputs the precision etc for each class\n",
    "\tpredictions.argmax(axis=1), target_names=labelNames))\n"
   ]
  },
  {
   "cell_type": "markdown",
   "metadata": {
    "id": "iScLdHhHZAYV"
   },
   "source": [
    "The **[f1-score](https://scikit-learn.org/stable/modules/generated/sklearn.metrics.f1_score.html)** gives you the **harmonic mean of precision and recall**. The scores corresponding to every class will tell you the accuracy of the classifier in classifying the data points in that particular class compared to all other classes.\n",
    "\n",
    "The **[support](https://scikit-learn.org/stable/modules/generated/sklearn.metrics.precision_recall_fscore_support.html)** is the **number of samples of the true response** that lie in **that class**."
   ]
  },
  {
   "cell_type": "markdown",
   "metadata": {
    "id": "IO7YLb4PlGDf"
   },
   "source": [
    "### Comparison: Try the Pre-Trained VGG16 Model from Keras\n",
    "\n",
    "Rather than define our own mini-VGGNet model and train it from scratch, we can leverage the pre-trained VGG-16 model and compare its performance.\n"
   ]
  },
  {
   "cell_type": "code",
   "execution_count": 12,
   "metadata": {
    "colab": {
     "base_uri": "https://localhost:8080/",
     "height": 382
    },
    "executionInfo": {
     "elapsed": 13,
     "status": "error",
     "timestamp": 1635353103800,
     "user": {
      "displayName": "Victoria Ajila",
      "photoUrl": "https://lh3.googleusercontent.com/a/default-user=s64",
      "userId": "03727961744353051498"
     },
     "user_tz": 240
    },
    "id": "r99Nvt1uxk39",
    "outputId": "756a74bf-acd1-45f8-acbf-5421f68bc591",
    "pycharm": {
     "is_executing": true
    }
   },
   "outputs": [
    {
     "name": "stdout",
     "output_type": "stream",
     "text": [
      "Shape of original test data: (10000, 32, 32, 3)\n",
      "Downloading data from https://storage.googleapis.com/tensorflow/keras-applications/vgg19/vgg19_weights_tf_dim_ordering_tf_kernels_notop.h5\n",
      "80142336/80134624 [==============================] - 2s 0us/step\n",
      "80150528/80134624 [==============================] - 2s 0us/step\n"
     ]
    }
   ],
   "source": [
    "from tensorflow.keras.applications import VGG19\n",
    "from keras.preprocessing import image\n",
    "#from keras.applications.vgg16 import preprocess_input, decode_predictions\n",
    "import cv2  # OpenCV. Useful for loading/manipulating/saving images\n",
    "import numpy as np\n",
    "\n",
    "print('Shape of original test data:', testX.shape)\n",
    "# Load the built-in pre-trained VGG16 model and apply it to the test set\n",
    "#pretrained_model = VGG16(weights='imagenet', include_top=True)\n",
    "pretrained_model = VGG19(include_top=False,weights='imagenet',input_shape=(32,32,3),classes=trainY.shape[1])"
   ]
  },
  {
   "cell_type": "code",
   "execution_count": 13,
   "metadata": {
    "executionInfo": {
     "elapsed": 8,
     "status": "aborted",
     "timestamp": 1635353103796,
     "user": {
      "displayName": "Victoria Ajila",
      "photoUrl": "https://lh3.googleusercontent.com/a/default-user=s64",
      "userId": "03727961744353051498"
     },
     "user_tz": 240
    },
    "id": "Frp2bv47lBEI",
    "pycharm": {
     "is_executing": true
    }
   },
   "outputs": [
    {
     "name": "stdout",
     "output_type": "stream",
     "text": [
      "Resizing images...\n",
      "Shape of resized test data: (10000, 244, 244, 3)\n"
     ]
    }
   ],
   "source": [
    "# Need to resize the test images from 32x32 to 244x244 to work with the pre-trained VGG16 network\n",
    "def resize_data(data):\n",
    "    data_upscaled = np.zeros((data.shape[0], 244, 244, 3))\n",
    "    for i, img in enumerate(data):\n",
    "        large_img = cv2.resize(img, dsize=(244, 244), interpolation=cv2.INTER_CUBIC)\n",
    "        data_upscaled[i] = large_img\n",
    "\n",
    "    return data_upscaled\n",
    "\n",
    "# resize test data\n",
    "print('Resizing images...')\n",
    "x_test_resized = resize_data(testX)\n",
    "print('Shape of resized test data:', x_test_resized.shape) "
   ]
  },
  {
   "cell_type": "code",
   "execution_count": 14,
   "metadata": {
    "executionInfo": {
     "elapsed": 9,
     "status": "aborted",
     "timestamp": 1635353103797,
     "user": {
      "displayName": "Victoria Ajila",
      "photoUrl": "https://lh3.googleusercontent.com/a/default-user=s64",
      "userId": "03727961744353051498"
     },
     "user_tz": 240
    },
    "id": "60A3g1QUxsrV",
    "pycharm": {
     "is_executing": true
    }
   },
   "outputs": [
    {
     "name": "stdout",
     "output_type": "stream",
     "text": [
      "[INFO] evaluating network...\n"
     ]
    },
    {
     "ename": "ValueError",
     "evalue": "in user code:\n\n    /usr/local/lib/python3.9/site-packages/keras/engine/training.py:1586 predict_function  *\n        return step_function(self, iterator)\n    /usr/local/lib/python3.9/site-packages/keras/engine/training.py:1576 step_function  **\n        outputs = model.distribute_strategy.run(run_step, args=(data,))\n    /usr/local/lib/python3.9/site-packages/tensorflow/python/distribute/distribute_lib.py:1286 run\n        return self._extended.call_for_each_replica(fn, args=args, kwargs=kwargs)\n    /usr/local/lib/python3.9/site-packages/tensorflow/python/distribute/distribute_lib.py:2849 call_for_each_replica\n        return self._call_for_each_replica(fn, args, kwargs)\n    /usr/local/lib/python3.9/site-packages/tensorflow/python/distribute/distribute_lib.py:3632 _call_for_each_replica\n        return fn(*args, **kwargs)\n    /usr/local/lib/python3.9/site-packages/keras/engine/training.py:1569 run_step  **\n        outputs = model.predict_step(data)\n    /usr/local/lib/python3.9/site-packages/keras/engine/training.py:1537 predict_step\n        return self(x, training=False)\n    /usr/local/lib/python3.9/site-packages/keras/engine/base_layer.py:1020 __call__\n        input_spec.assert_input_compatibility(self.input_spec, inputs, self.name)\n    /usr/local/lib/python3.9/site-packages/keras/engine/input_spec.py:266 assert_input_compatibility\n        raise ValueError('Input ' + str(input_index) +\n\n    ValueError: Input 0 is incompatible with layer vgg19: expected shape=(None, 32, 32, 3), found shape=(None, 244, 244, 3)\n",
     "output_type": "error",
     "traceback": [
      "\u001b[0;31m---------------------------------------------------------------------------\u001b[0m",
      "\u001b[0;31mValueError\u001b[0m                                Traceback (most recent call last)",
      "\u001b[0;32m<ipython-input-14-125da91e78ce>\u001b[0m in \u001b[0;36m<module>\u001b[0;34m\u001b[0m\n\u001b[1;32m      2\u001b[0m \u001b[0;31m## Getting an error; giving up. If anyone can solve this, please email me and I'll update the example!\u001b[0m\u001b[0;34m\u001b[0m\u001b[0;34m\u001b[0m\u001b[0m\n\u001b[1;32m      3\u001b[0m \u001b[0mprint\u001b[0m\u001b[0;34m(\u001b[0m\u001b[0;34m\"[INFO] evaluating network...\"\u001b[0m\u001b[0;34m)\u001b[0m\u001b[0;34m\u001b[0m\u001b[0;34m\u001b[0m\u001b[0m\n\u001b[0;32m----> 4\u001b[0;31m \u001b[0mpredictions\u001b[0m \u001b[0;34m=\u001b[0m \u001b[0mpretrained_model\u001b[0m\u001b[0;34m.\u001b[0m\u001b[0mpredict\u001b[0m\u001b[0;34m(\u001b[0m\u001b[0mx_test_resized\u001b[0m\u001b[0;34m,\u001b[0m \u001b[0mbatch_size\u001b[0m\u001b[0;34m=\u001b[0m\u001b[0;36m32\u001b[0m\u001b[0;34m)\u001b[0m\u001b[0;34m\u001b[0m\u001b[0;34m\u001b[0m\u001b[0m\n\u001b[0m\u001b[1;32m      5\u001b[0m \u001b[0mdecode_predictions\u001b[0m\u001b[0;34m(\u001b[0m\u001b[0mpredictions\u001b[0m\u001b[0;34m)\u001b[0m\u001b[0;34m\u001b[0m\u001b[0;34m\u001b[0m\u001b[0m\n\u001b[1;32m      6\u001b[0m print(classification_report(testY.argmax(axis=1), \n",
      "\u001b[0;32m/usr/local/lib/python3.9/site-packages/keras/engine/training.py\u001b[0m in \u001b[0;36mpredict\u001b[0;34m(self, x, batch_size, verbose, steps, callbacks, max_queue_size, workers, use_multiprocessing)\u001b[0m\n\u001b[1;32m   1749\u001b[0m           \u001b[0;32mfor\u001b[0m \u001b[0mstep\u001b[0m \u001b[0;32min\u001b[0m \u001b[0mdata_handler\u001b[0m\u001b[0;34m.\u001b[0m\u001b[0msteps\u001b[0m\u001b[0;34m(\u001b[0m\u001b[0;34m)\u001b[0m\u001b[0;34m:\u001b[0m\u001b[0;34m\u001b[0m\u001b[0;34m\u001b[0m\u001b[0m\n\u001b[1;32m   1750\u001b[0m             \u001b[0mcallbacks\u001b[0m\u001b[0;34m.\u001b[0m\u001b[0mon_predict_batch_begin\u001b[0m\u001b[0;34m(\u001b[0m\u001b[0mstep\u001b[0m\u001b[0;34m)\u001b[0m\u001b[0;34m\u001b[0m\u001b[0;34m\u001b[0m\u001b[0m\n\u001b[0;32m-> 1751\u001b[0;31m             \u001b[0mtmp_batch_outputs\u001b[0m \u001b[0;34m=\u001b[0m \u001b[0mself\u001b[0m\u001b[0;34m.\u001b[0m\u001b[0mpredict_function\u001b[0m\u001b[0;34m(\u001b[0m\u001b[0miterator\u001b[0m\u001b[0;34m)\u001b[0m\u001b[0;34m\u001b[0m\u001b[0;34m\u001b[0m\u001b[0m\n\u001b[0m\u001b[1;32m   1752\u001b[0m             \u001b[0;32mif\u001b[0m \u001b[0mdata_handler\u001b[0m\u001b[0;34m.\u001b[0m\u001b[0mshould_sync\u001b[0m\u001b[0;34m:\u001b[0m\u001b[0;34m\u001b[0m\u001b[0;34m\u001b[0m\u001b[0m\n\u001b[1;32m   1753\u001b[0m               \u001b[0mcontext\u001b[0m\u001b[0;34m.\u001b[0m\u001b[0masync_wait\u001b[0m\u001b[0;34m(\u001b[0m\u001b[0;34m)\u001b[0m\u001b[0;34m\u001b[0m\u001b[0;34m\u001b[0m\u001b[0m\n",
      "\u001b[0;32m/usr/local/lib/python3.9/site-packages/tensorflow/python/eager/def_function.py\u001b[0m in \u001b[0;36m__call__\u001b[0;34m(self, *args, **kwds)\u001b[0m\n\u001b[1;32m    883\u001b[0m \u001b[0;34m\u001b[0m\u001b[0m\n\u001b[1;32m    884\u001b[0m       \u001b[0;32mwith\u001b[0m \u001b[0mOptionalXlaContext\u001b[0m\u001b[0;34m(\u001b[0m\u001b[0mself\u001b[0m\u001b[0;34m.\u001b[0m\u001b[0m_jit_compile\u001b[0m\u001b[0;34m)\u001b[0m\u001b[0;34m:\u001b[0m\u001b[0;34m\u001b[0m\u001b[0;34m\u001b[0m\u001b[0m\n\u001b[0;32m--> 885\u001b[0;31m         \u001b[0mresult\u001b[0m \u001b[0;34m=\u001b[0m \u001b[0mself\u001b[0m\u001b[0;34m.\u001b[0m\u001b[0m_call\u001b[0m\u001b[0;34m(\u001b[0m\u001b[0;34m*\u001b[0m\u001b[0margs\u001b[0m\u001b[0;34m,\u001b[0m \u001b[0;34m**\u001b[0m\u001b[0mkwds\u001b[0m\u001b[0;34m)\u001b[0m\u001b[0;34m\u001b[0m\u001b[0;34m\u001b[0m\u001b[0m\n\u001b[0m\u001b[1;32m    886\u001b[0m \u001b[0;34m\u001b[0m\u001b[0m\n\u001b[1;32m    887\u001b[0m       \u001b[0mnew_tracing_count\u001b[0m \u001b[0;34m=\u001b[0m \u001b[0mself\u001b[0m\u001b[0;34m.\u001b[0m\u001b[0mexperimental_get_tracing_count\u001b[0m\u001b[0;34m(\u001b[0m\u001b[0;34m)\u001b[0m\u001b[0;34m\u001b[0m\u001b[0;34m\u001b[0m\u001b[0m\n",
      "\u001b[0;32m/usr/local/lib/python3.9/site-packages/tensorflow/python/eager/def_function.py\u001b[0m in \u001b[0;36m_call\u001b[0;34m(self, *args, **kwds)\u001b[0m\n\u001b[1;32m    931\u001b[0m       \u001b[0;31m# This is the first call of __call__, so we have to initialize.\u001b[0m\u001b[0;34m\u001b[0m\u001b[0;34m\u001b[0m\u001b[0m\n\u001b[1;32m    932\u001b[0m       \u001b[0minitializers\u001b[0m \u001b[0;34m=\u001b[0m \u001b[0;34m[\u001b[0m\u001b[0;34m]\u001b[0m\u001b[0;34m\u001b[0m\u001b[0;34m\u001b[0m\u001b[0m\n\u001b[0;32m--> 933\u001b[0;31m       \u001b[0mself\u001b[0m\u001b[0;34m.\u001b[0m\u001b[0m_initialize\u001b[0m\u001b[0;34m(\u001b[0m\u001b[0margs\u001b[0m\u001b[0;34m,\u001b[0m \u001b[0mkwds\u001b[0m\u001b[0;34m,\u001b[0m \u001b[0madd_initializers_to\u001b[0m\u001b[0;34m=\u001b[0m\u001b[0minitializers\u001b[0m\u001b[0;34m)\u001b[0m\u001b[0;34m\u001b[0m\u001b[0;34m\u001b[0m\u001b[0m\n\u001b[0m\u001b[1;32m    934\u001b[0m     \u001b[0;32mfinally\u001b[0m\u001b[0;34m:\u001b[0m\u001b[0;34m\u001b[0m\u001b[0;34m\u001b[0m\u001b[0m\n\u001b[1;32m    935\u001b[0m       \u001b[0;31m# At this point we know that the initialization is complete (or less\u001b[0m\u001b[0;34m\u001b[0m\u001b[0;34m\u001b[0m\u001b[0m\n",
      "\u001b[0;32m/usr/local/lib/python3.9/site-packages/tensorflow/python/eager/def_function.py\u001b[0m in \u001b[0;36m_initialize\u001b[0;34m(self, args, kwds, add_initializers_to)\u001b[0m\n\u001b[1;32m    757\u001b[0m     \u001b[0mself\u001b[0m\u001b[0;34m.\u001b[0m\u001b[0m_graph_deleter\u001b[0m \u001b[0;34m=\u001b[0m \u001b[0mFunctionDeleter\u001b[0m\u001b[0;34m(\u001b[0m\u001b[0mself\u001b[0m\u001b[0;34m.\u001b[0m\u001b[0m_lifted_initializer_graph\u001b[0m\u001b[0;34m)\u001b[0m\u001b[0;34m\u001b[0m\u001b[0;34m\u001b[0m\u001b[0m\n\u001b[1;32m    758\u001b[0m     self._concrete_stateful_fn = (\n\u001b[0;32m--> 759\u001b[0;31m         self._stateful_fn._get_concrete_function_internal_garbage_collected(  # pylint: disable=protected-access\n\u001b[0m\u001b[1;32m    760\u001b[0m             *args, **kwds))\n\u001b[1;32m    761\u001b[0m \u001b[0;34m\u001b[0m\u001b[0m\n",
      "\u001b[0;32m/usr/local/lib/python3.9/site-packages/tensorflow/python/eager/function.py\u001b[0m in \u001b[0;36m_get_concrete_function_internal_garbage_collected\u001b[0;34m(self, *args, **kwargs)\u001b[0m\n\u001b[1;32m   3064\u001b[0m       \u001b[0margs\u001b[0m\u001b[0;34m,\u001b[0m \u001b[0mkwargs\u001b[0m \u001b[0;34m=\u001b[0m \u001b[0;32mNone\u001b[0m\u001b[0;34m,\u001b[0m \u001b[0;32mNone\u001b[0m\u001b[0;34m\u001b[0m\u001b[0;34m\u001b[0m\u001b[0m\n\u001b[1;32m   3065\u001b[0m     \u001b[0;32mwith\u001b[0m \u001b[0mself\u001b[0m\u001b[0;34m.\u001b[0m\u001b[0m_lock\u001b[0m\u001b[0;34m:\u001b[0m\u001b[0;34m\u001b[0m\u001b[0;34m\u001b[0m\u001b[0m\n\u001b[0;32m-> 3066\u001b[0;31m       \u001b[0mgraph_function\u001b[0m\u001b[0;34m,\u001b[0m \u001b[0m_\u001b[0m \u001b[0;34m=\u001b[0m \u001b[0mself\u001b[0m\u001b[0;34m.\u001b[0m\u001b[0m_maybe_define_function\u001b[0m\u001b[0;34m(\u001b[0m\u001b[0margs\u001b[0m\u001b[0;34m,\u001b[0m \u001b[0mkwargs\u001b[0m\u001b[0;34m)\u001b[0m\u001b[0;34m\u001b[0m\u001b[0;34m\u001b[0m\u001b[0m\n\u001b[0m\u001b[1;32m   3067\u001b[0m     \u001b[0;32mreturn\u001b[0m \u001b[0mgraph_function\u001b[0m\u001b[0;34m\u001b[0m\u001b[0;34m\u001b[0m\u001b[0m\n\u001b[1;32m   3068\u001b[0m \u001b[0;34m\u001b[0m\u001b[0m\n",
      "\u001b[0;32m/usr/local/lib/python3.9/site-packages/tensorflow/python/eager/function.py\u001b[0m in \u001b[0;36m_maybe_define_function\u001b[0;34m(self, args, kwargs)\u001b[0m\n\u001b[1;32m   3461\u001b[0m \u001b[0;34m\u001b[0m\u001b[0m\n\u001b[1;32m   3462\u001b[0m           \u001b[0mself\u001b[0m\u001b[0;34m.\u001b[0m\u001b[0m_function_cache\u001b[0m\u001b[0;34m.\u001b[0m\u001b[0mmissed\u001b[0m\u001b[0;34m.\u001b[0m\u001b[0madd\u001b[0m\u001b[0;34m(\u001b[0m\u001b[0mcall_context_key\u001b[0m\u001b[0;34m)\u001b[0m\u001b[0;34m\u001b[0m\u001b[0;34m\u001b[0m\u001b[0m\n\u001b[0;32m-> 3463\u001b[0;31m           \u001b[0mgraph_function\u001b[0m \u001b[0;34m=\u001b[0m \u001b[0mself\u001b[0m\u001b[0;34m.\u001b[0m\u001b[0m_create_graph_function\u001b[0m\u001b[0;34m(\u001b[0m\u001b[0margs\u001b[0m\u001b[0;34m,\u001b[0m \u001b[0mkwargs\u001b[0m\u001b[0;34m)\u001b[0m\u001b[0;34m\u001b[0m\u001b[0;34m\u001b[0m\u001b[0m\n\u001b[0m\u001b[1;32m   3464\u001b[0m           \u001b[0mself\u001b[0m\u001b[0;34m.\u001b[0m\u001b[0m_function_cache\u001b[0m\u001b[0;34m.\u001b[0m\u001b[0mprimary\u001b[0m\u001b[0;34m[\u001b[0m\u001b[0mcache_key\u001b[0m\u001b[0;34m]\u001b[0m \u001b[0;34m=\u001b[0m \u001b[0mgraph_function\u001b[0m\u001b[0;34m\u001b[0m\u001b[0;34m\u001b[0m\u001b[0m\n\u001b[1;32m   3465\u001b[0m \u001b[0;34m\u001b[0m\u001b[0m\n",
      "\u001b[0;32m/usr/local/lib/python3.9/site-packages/tensorflow/python/eager/function.py\u001b[0m in \u001b[0;36m_create_graph_function\u001b[0;34m(self, args, kwargs, override_flat_arg_shapes)\u001b[0m\n\u001b[1;32m   3296\u001b[0m     \u001b[0marg_names\u001b[0m \u001b[0;34m=\u001b[0m \u001b[0mbase_arg_names\u001b[0m \u001b[0;34m+\u001b[0m \u001b[0mmissing_arg_names\u001b[0m\u001b[0;34m\u001b[0m\u001b[0;34m\u001b[0m\u001b[0m\n\u001b[1;32m   3297\u001b[0m     graph_function = ConcreteFunction(\n\u001b[0;32m-> 3298\u001b[0;31m         func_graph_module.func_graph_from_py_func(\n\u001b[0m\u001b[1;32m   3299\u001b[0m             \u001b[0mself\u001b[0m\u001b[0;34m.\u001b[0m\u001b[0m_name\u001b[0m\u001b[0;34m,\u001b[0m\u001b[0;34m\u001b[0m\u001b[0;34m\u001b[0m\u001b[0m\n\u001b[1;32m   3300\u001b[0m             \u001b[0mself\u001b[0m\u001b[0;34m.\u001b[0m\u001b[0m_python_function\u001b[0m\u001b[0;34m,\u001b[0m\u001b[0;34m\u001b[0m\u001b[0;34m\u001b[0m\u001b[0m\n",
      "\u001b[0;32m/usr/local/lib/python3.9/site-packages/tensorflow/python/framework/func_graph.py\u001b[0m in \u001b[0;36mfunc_graph_from_py_func\u001b[0;34m(name, python_func, args, kwargs, signature, func_graph, autograph, autograph_options, add_control_dependencies, arg_names, op_return_value, collections, capture_by_value, override_flat_arg_shapes, acd_record_initial_resource_uses)\u001b[0m\n\u001b[1;32m   1005\u001b[0m         \u001b[0m_\u001b[0m\u001b[0;34m,\u001b[0m \u001b[0moriginal_func\u001b[0m \u001b[0;34m=\u001b[0m \u001b[0mtf_decorator\u001b[0m\u001b[0;34m.\u001b[0m\u001b[0munwrap\u001b[0m\u001b[0;34m(\u001b[0m\u001b[0mpython_func\u001b[0m\u001b[0;34m)\u001b[0m\u001b[0;34m\u001b[0m\u001b[0;34m\u001b[0m\u001b[0m\n\u001b[1;32m   1006\u001b[0m \u001b[0;34m\u001b[0m\u001b[0m\n\u001b[0;32m-> 1007\u001b[0;31m       \u001b[0mfunc_outputs\u001b[0m \u001b[0;34m=\u001b[0m \u001b[0mpython_func\u001b[0m\u001b[0;34m(\u001b[0m\u001b[0;34m*\u001b[0m\u001b[0mfunc_args\u001b[0m\u001b[0;34m,\u001b[0m \u001b[0;34m**\u001b[0m\u001b[0mfunc_kwargs\u001b[0m\u001b[0;34m)\u001b[0m\u001b[0;34m\u001b[0m\u001b[0;34m\u001b[0m\u001b[0m\n\u001b[0m\u001b[1;32m   1008\u001b[0m \u001b[0;34m\u001b[0m\u001b[0m\n\u001b[1;32m   1009\u001b[0m       \u001b[0;31m# invariant: `func_outputs` contains only Tensors, CompositeTensors,\u001b[0m\u001b[0;34m\u001b[0m\u001b[0;34m\u001b[0m\u001b[0m\n",
      "\u001b[0;32m/usr/local/lib/python3.9/site-packages/tensorflow/python/eager/def_function.py\u001b[0m in \u001b[0;36mwrapped_fn\u001b[0;34m(*args, **kwds)\u001b[0m\n\u001b[1;32m    666\u001b[0m         \u001b[0;31m# the function a weak reference to itself to avoid a reference cycle.\u001b[0m\u001b[0;34m\u001b[0m\u001b[0;34m\u001b[0m\u001b[0m\n\u001b[1;32m    667\u001b[0m         \u001b[0;32mwith\u001b[0m \u001b[0mOptionalXlaContext\u001b[0m\u001b[0;34m(\u001b[0m\u001b[0mcompile_with_xla\u001b[0m\u001b[0;34m)\u001b[0m\u001b[0;34m:\u001b[0m\u001b[0;34m\u001b[0m\u001b[0;34m\u001b[0m\u001b[0m\n\u001b[0;32m--> 668\u001b[0;31m           \u001b[0mout\u001b[0m \u001b[0;34m=\u001b[0m \u001b[0mweak_wrapped_fn\u001b[0m\u001b[0;34m(\u001b[0m\u001b[0;34m)\u001b[0m\u001b[0;34m.\u001b[0m\u001b[0m__wrapped__\u001b[0m\u001b[0;34m(\u001b[0m\u001b[0;34m*\u001b[0m\u001b[0margs\u001b[0m\u001b[0;34m,\u001b[0m \u001b[0;34m**\u001b[0m\u001b[0mkwds\u001b[0m\u001b[0;34m)\u001b[0m\u001b[0;34m\u001b[0m\u001b[0;34m\u001b[0m\u001b[0m\n\u001b[0m\u001b[1;32m    669\u001b[0m         \u001b[0;32mreturn\u001b[0m \u001b[0mout\u001b[0m\u001b[0;34m\u001b[0m\u001b[0;34m\u001b[0m\u001b[0m\n\u001b[1;32m    670\u001b[0m \u001b[0;34m\u001b[0m\u001b[0m\n",
      "\u001b[0;32m/usr/local/lib/python3.9/site-packages/tensorflow/python/framework/func_graph.py\u001b[0m in \u001b[0;36mwrapper\u001b[0;34m(*args, **kwargs)\u001b[0m\n\u001b[1;32m    992\u001b[0m           \u001b[0;32mexcept\u001b[0m \u001b[0mException\u001b[0m \u001b[0;32mas\u001b[0m \u001b[0me\u001b[0m\u001b[0;34m:\u001b[0m  \u001b[0;31m# pylint:disable=broad-except\u001b[0m\u001b[0;34m\u001b[0m\u001b[0;34m\u001b[0m\u001b[0m\n\u001b[1;32m    993\u001b[0m             \u001b[0;32mif\u001b[0m \u001b[0mhasattr\u001b[0m\u001b[0;34m(\u001b[0m\u001b[0me\u001b[0m\u001b[0;34m,\u001b[0m \u001b[0;34m\"ag_error_metadata\"\u001b[0m\u001b[0;34m)\u001b[0m\u001b[0;34m:\u001b[0m\u001b[0;34m\u001b[0m\u001b[0;34m\u001b[0m\u001b[0m\n\u001b[0;32m--> 994\u001b[0;31m               \u001b[0;32mraise\u001b[0m \u001b[0me\u001b[0m\u001b[0;34m.\u001b[0m\u001b[0mag_error_metadata\u001b[0m\u001b[0;34m.\u001b[0m\u001b[0mto_exception\u001b[0m\u001b[0;34m(\u001b[0m\u001b[0me\u001b[0m\u001b[0;34m)\u001b[0m\u001b[0;34m\u001b[0m\u001b[0;34m\u001b[0m\u001b[0m\n\u001b[0m\u001b[1;32m    995\u001b[0m             \u001b[0;32melse\u001b[0m\u001b[0;34m:\u001b[0m\u001b[0;34m\u001b[0m\u001b[0;34m\u001b[0m\u001b[0m\n\u001b[1;32m    996\u001b[0m               \u001b[0;32mraise\u001b[0m\u001b[0;34m\u001b[0m\u001b[0;34m\u001b[0m\u001b[0m\n",
      "\u001b[0;31mValueError\u001b[0m: in user code:\n\n    /usr/local/lib/python3.9/site-packages/keras/engine/training.py:1586 predict_function  *\n        return step_function(self, iterator)\n    /usr/local/lib/python3.9/site-packages/keras/engine/training.py:1576 step_function  **\n        outputs = model.distribute_strategy.run(run_step, args=(data,))\n    /usr/local/lib/python3.9/site-packages/tensorflow/python/distribute/distribute_lib.py:1286 run\n        return self._extended.call_for_each_replica(fn, args=args, kwargs=kwargs)\n    /usr/local/lib/python3.9/site-packages/tensorflow/python/distribute/distribute_lib.py:2849 call_for_each_replica\n        return self._call_for_each_replica(fn, args, kwargs)\n    /usr/local/lib/python3.9/site-packages/tensorflow/python/distribute/distribute_lib.py:3632 _call_for_each_replica\n        return fn(*args, **kwargs)\n    /usr/local/lib/python3.9/site-packages/keras/engine/training.py:1569 run_step  **\n        outputs = model.predict_step(data)\n    /usr/local/lib/python3.9/site-packages/keras/engine/training.py:1537 predict_step\n        return self(x, training=False)\n    /usr/local/lib/python3.9/site-packages/keras/engine/base_layer.py:1020 __call__\n        input_spec.assert_input_compatibility(self.input_spec, inputs, self.name)\n    /usr/local/lib/python3.9/site-packages/keras/engine/input_spec.py:266 assert_input_compatibility\n        raise ValueError('Input ' + str(input_index) +\n\n    ValueError: Input 0 is incompatible with layer vgg19: expected shape=(None, 32, 32, 3), found shape=(None, 244, 244, 3)\n"
     ]
    }
   ],
   "source": [
    "# evaluate the network\n",
    "## Getting an error; giving up. If anyone can solve this, please email me and I'll update the example!\n",
    "print(\"[INFO] evaluating network...\")\n",
    "predictions = pretrained_model.predict(x_test_resized, batch_size=32)\n",
    "decode_predictions(predictions)\n",
    "print(classification_report(testY.argmax(axis=1), \n",
    "                            predictions.argmax(axis=1), \n",
    "                            target_names=labelNames), \n",
    "      labels=labelNames)"
   ]
  },
  {
   "cell_type": "markdown",
   "metadata": {
    "id": "acgMfeP47gZK"
   },
   "source": [
    "# Part II: Building an LSTM for Stock Market Prediction\n",
    "\n",
    "**Long short-term memory (LSTM)** is an artificial recurrent neural network (RNN) architecture used in the field of deep learning. Unlike standard feedforward neural networks, LSTMs have feedback connections.\n",
    "\n",
    "A common architecture is composed of a **cell** (the memory part of the LSTM unit) and three **\"regulators\", usually called gates**, of the flow of information inside the LSTM unit: an **input gate**, an **output gate** and a **forget gate**. \n",
    "\n",
    "LSTM units can be **trained in a supervised fashion**, on a set of training sequences, using an optimization algorithm, like **gradient descent**, combined with **backpropagation through time** to compute the gradients needed during the optimization process, in order to change each weight of the LSTM network in proportion to the derivative of the error (at the output layer of the LSTM network) with respect to corresponding weight.\n",
    "\n",
    "**Vanishing Gradients Problem:** A problem with using gradient descent for standard RNNs is that error gradients vanish exponentially quickly with the size of the time lag between important events."
   ]
  },
  {
   "cell_type": "code",
   "execution_count": 15,
   "metadata": {
    "executionInfo": {
     "elapsed": 9,
     "status": "aborted",
     "timestamp": 1635353103797,
     "user": {
      "displayName": "Victoria Ajila",
      "photoUrl": "https://lh3.googleusercontent.com/a/default-user=s64",
      "userId": "03727961744353051498"
     },
     "user_tz": 240
    },
    "id": "M_nsiO0H75D2",
    "pycharm": {
     "is_executing": true
    }
   },
   "outputs": [],
   "source": [
    "import time\n",
    "import warnings\n",
    "import numpy as np\n",
    "from numpy import newaxis\n",
    "from keras.layers.core import Dense, Activation, Dropout\n",
    "from keras.layers.recurrent import LSTM\n",
    "from keras.models import Sequential\n",
    "import matplotlib.pyplot as plt\n",
    "import pandas as pd\n",
    "warnings.filterwarnings(\"ignore\")\n",
    "\n",
    "# Function to plot the predictions of non-overlapping windows.\n",
    "# Start with a full window of test data, then predict until window_len \n",
    "# predictions have been made. Then start over with a new window of test data.\n",
    "def plot_results_multiple(predicted_data, true_data, prediction_len):\n",
    "    fig = plt.figure(facecolor='white')\n",
    "    ax = fig.add_subplot(111)\n",
    "    ax.plot(true_data, label='True Data')\n",
    "    \n",
    "    #Pad the list of predictions to shift it in the graph to it's correct start\n",
    "    for i, data in enumerate(predicted_data):\n",
    "        padding = [None for p in range(i * prediction_len)]\n",
    "        plt.plot(padding + data, label='Prediction')\n",
    "        plt.legend()\n",
    "    plt.show()\n",
    "\n",
    "\n",
    "# Function to load the data from CSV file, then generate overlapping windows of \n",
    "# data. Each window is normalized WRT to the first point in the window\n",
    "def load_data(URL, seq_len, normalise_window):\n",
    "    pd_data = pd.read_csv(URL)\n",
    "    data = pd_data.values\n",
    "\n",
    "    # Split up the data into a bunch of overlapping sequence windows\n",
    "    sequence_length = seq_len + 1\n",
    "    result = []\n",
    "    for index in range(len(data) - sequence_length):\n",
    "        result.append(data[index: index + sequence_length])\n",
    "    \n",
    "    if normalise_window:\n",
    "        result = normalise_windows(result)\n",
    "\n",
    "    result = np.array(result)\n",
    "\n",
    "    row = round(0.9 * result.shape[0])\n",
    "    train = result[:int(row), :]\n",
    "    np.random.shuffle(train)\n",
    "    x_train = train[:, :-1]\n",
    "    y_train = train[:, -1]\n",
    "    x_test = result[int(row):, :-1]\n",
    "    y_test = result[int(row):, -1]\n",
    "\n",
    "    x_train = np.reshape(x_train, (x_train.shape[0], x_train.shape[1], 1))\n",
    "    x_test = np.reshape(x_test, (x_test.shape[0], x_test.shape[1], 1))  \n",
    "\n",
    "    return [x_train, y_train, x_test, y_test]\n",
    "\n",
    "# Function to normalize a window of data by the first point\n",
    "# First point becomes 0, then subsequent points are % difference from initial\n",
    "def normalise_windows(window_data):\n",
    "    normalised_data = []\n",
    "    for window in window_data:\n",
    "        normalised_window = [((float(p) / float(window[0])) - 1) for p in window]\n",
    "        normalised_data.append(normalised_window)\n",
    "    return normalised_data\n",
    "\n",
    "\n",
    "# Function to predict 50 steps into the future, then reload model with new\n",
    "# window of data. Repeat...\n",
    "def predict_sequences_multiple(model, data, window_size, prediction_len):\n",
    "    #Predict sequence of 50 steps before shifting prediction run forward by 50 steps\n",
    "    prediction_seqs = []\n",
    "    for i in range(int(len(data)/prediction_len)):\n",
    "        curr_frame = data[i*prediction_len]\n",
    "        predicted = []\n",
    "        for j in range(prediction_len):\n",
    "            predicted.append(model.predict(curr_frame[newaxis,:,:])[0,0])\n",
    "            curr_frame = curr_frame[1:]\n",
    "            curr_frame = np.insert(curr_frame, [window_size-1], predicted[-1], axis=0)\n",
    "        prediction_seqs.append(predicted)\n",
    "    return prediction_seqs"
   ]
  },
  {
   "cell_type": "markdown",
   "metadata": {
    "id": "U8nx8Sqb8PME"
   },
   "source": [
    "## Download the Historical Stock Data"
   ]
  },
  {
   "cell_type": "code",
   "execution_count": 16,
   "metadata": {
    "executionInfo": {
     "elapsed": 8,
     "status": "aborted",
     "timestamp": 1635353103797,
     "user": {
      "displayName": "Victoria Ajila",
      "photoUrl": "https://lh3.googleusercontent.com/a/default-user=s64",
      "userId": "03727961744353051498"
     },
     "user_tz": 240
    },
    "id": "ov4xhjJB8T0g",
    "pycharm": {
     "is_executing": true
    }
   },
   "outputs": [],
   "source": [
    "#Step 1 Load Data\n",
    "URL = 'https://github.com/llSourcell/How-to-Predict-Stock-Prices-Easily-Demo/raw/master/sp500.csv'\n",
    "X_train, y_train, X_test, y_test = load_data(URL, 50, True)"
   ]
  },
  {
   "cell_type": "markdown",
   "metadata": {
    "id": "vJbCf1tw8e9O"
   },
   "source": [
    "## Define and Build the LSTM Model"
   ]
  },
  {
   "cell_type": "code",
   "execution_count": 17,
   "metadata": {
    "executionInfo": {
     "elapsed": 10,
     "status": "aborted",
     "timestamp": 1635353103799,
     "user": {
      "displayName": "Victoria Ajila",
      "photoUrl": "https://lh3.googleusercontent.com/a/default-user=s64",
      "userId": "03727961744353051498"
     },
     "user_tz": 240
    },
    "id": "x974E6Al8c9q",
    "pycharm": {
     "is_executing": true
    }
   },
   "outputs": [
    {
     "name": "stdout",
     "output_type": "stream",
     "text": [
      "compilation time : 0.01408529281616211\n"
     ]
    }
   ],
   "source": [
    "#Step 2 Build Model\n",
    "model = Sequential()\n",
    "\n",
    "#Adding the first LSTM layer and some Dropout regularisation\n",
    "model.add(LSTM(units = 100, return_sequences = True, input_shape = (X_train.shape[1], 1)))\n",
    "model.add(Dropout(0.2))\n",
    "# Adding a second LSTM layer and some Dropout regularisation\n",
    "model.add(LSTM(units = 100, return_sequences = True))\n",
    "model.add(Dropout(0.2))\n",
    "\n",
    "# Adding the output layer\n",
    "model.add(Dense(units = 1))\n",
    "\n",
    "start = time.time()\n",
    "model.compile(loss='mse', optimizer='rmsprop')\n",
    "print(f'compilation time : {time.time() - start}') "
   ]
  },
  {
   "cell_type": "code",
   "execution_count": 18,
   "metadata": {
    "executionInfo": {
     "elapsed": 10,
     "status": "aborted",
     "timestamp": 1635353103799,
     "user": {
      "displayName": "Victoria Ajila",
      "photoUrl": "https://lh3.googleusercontent.com/a/default-user=s64",
      "userId": "03727961744353051498"
     },
     "user_tz": 240
    },
    "id": "g77Wsj2X9e8z",
    "pycharm": {
     "is_executing": true
    }
   },
   "outputs": [
    {
     "name": "stdout",
     "output_type": "stream",
     "text": [
      "Epoch 1/50\n",
      "7/7 [==============================] - 10s 583ms/step - loss: 0.0043 - val_loss: 0.0035\n",
      "Epoch 2/50\n",
      "7/7 [==============================] - 4s 519ms/step - loss: 0.0033 - val_loss: 0.0029\n",
      "Epoch 3/50\n",
      "7/7 [==============================] - 4s 606ms/step - loss: 0.0031 - val_loss: 0.0029\n",
      "Epoch 4/50\n",
      "7/7 [==============================] - 4s 498ms/step - loss: 0.0031 - val_loss: 0.0028\n",
      "Epoch 5/50\n",
      "7/7 [==============================] - 4s 577ms/step - loss: 0.0031 - val_loss: 0.0028\n",
      "Epoch 6/50\n",
      "7/7 [==============================] - 4s 525ms/step - loss: 0.0030 - val_loss: 0.0030\n",
      "Epoch 7/50\n",
      "7/7 [==============================] - 4s 511ms/step - loss: 0.0031 - val_loss: 0.0027\n",
      "Epoch 8/50\n",
      "7/7 [==============================] - 4s 528ms/step - loss: 0.0030 - val_loss: 0.0027\n",
      "Epoch 9/50\n",
      "7/7 [==============================] - 4s 522ms/step - loss: 0.0030 - val_loss: 0.0027\n",
      "Epoch 10/50\n",
      "7/7 [==============================] - 4s 574ms/step - loss: 0.0029 - val_loss: 0.0027\n",
      "Epoch 11/50\n",
      "7/7 [==============================] - 5s 727ms/step - loss: 0.0029 - val_loss: 0.0027\n",
      "Epoch 12/50\n",
      "7/7 [==============================] - 5s 639ms/step - loss: 0.0029 - val_loss: 0.0028\n",
      "Epoch 13/50\n",
      "7/7 [==============================] - 4s 563ms/step - loss: 0.0030 - val_loss: 0.0027\n",
      "Epoch 14/50\n",
      "7/7 [==============================] - 4s 524ms/step - loss: 0.0029 - val_loss: 0.0027\n",
      "Epoch 15/50\n",
      "7/7 [==============================] - 4s 529ms/step - loss: 0.0029 - val_loss: 0.0026\n",
      "Epoch 16/50\n",
      "7/7 [==============================] - 4s 515ms/step - loss: 0.0028 - val_loss: 0.0026\n",
      "Epoch 17/50\n",
      "7/7 [==============================] - 4s 517ms/step - loss: 0.0028 - val_loss: 0.0028\n",
      "Epoch 18/50\n",
      "7/7 [==============================] - 3s 500ms/step - loss: 0.0029 - val_loss: 0.0027\n",
      "Epoch 19/50\n",
      "7/7 [==============================] - 4s 515ms/step - loss: 0.0029 - val_loss: 0.0026\n",
      "Epoch 20/50\n",
      "7/7 [==============================] - 4s 520ms/step - loss: 0.0029 - val_loss: 0.0027\n",
      "Epoch 21/50\n",
      "7/7 [==============================] - 4s 548ms/step - loss: 0.0028 - val_loss: 0.0026\n",
      "Epoch 22/50\n",
      "7/7 [==============================] - 4s 561ms/step - loss: 0.0029 - val_loss: 0.0026\n",
      "Epoch 23/50\n",
      "7/7 [==============================] - 4s 577ms/step - loss: 0.0028 - val_loss: 0.0026\n",
      "Epoch 24/50\n",
      "7/7 [==============================] - 4s 571ms/step - loss: 0.0028 - val_loss: 0.0026\n",
      "Epoch 25/50\n",
      "7/7 [==============================] - 4s 602ms/step - loss: 0.0028 - val_loss: 0.0026\n",
      "Epoch 26/50\n",
      "7/7 [==============================] - 4s 645ms/step - loss: 0.0029 - val_loss: 0.0026\n",
      "Epoch 27/50\n",
      "7/7 [==============================] - 4s 629ms/step - loss: 0.0028 - val_loss: 0.0026\n",
      "Epoch 28/50\n",
      "7/7 [==============================] - 4s 617ms/step - loss: 0.0029 - val_loss: 0.0027\n",
      "Epoch 29/50\n",
      "7/7 [==============================] - 4s 642ms/step - loss: 0.0028 - val_loss: 0.0026\n",
      "Epoch 30/50\n",
      "7/7 [==============================] - 5s 670ms/step - loss: 0.0028 - val_loss: 0.0026\n",
      "Epoch 31/50\n",
      "7/7 [==============================] - 5s 658ms/step - loss: 0.0028 - val_loss: 0.0025\n",
      "Epoch 32/50\n",
      "7/7 [==============================] - 5s 651ms/step - loss: 0.0028 - val_loss: 0.0026\n",
      "Epoch 33/50\n",
      "7/7 [==============================] - 5s 665ms/step - loss: 0.0028 - val_loss: 0.0026\n",
      "Epoch 34/50\n",
      "7/7 [==============================] - 5s 661ms/step - loss: 0.0028 - val_loss: 0.0026\n",
      "Epoch 35/50\n",
      "7/7 [==============================] - 5s 664ms/step - loss: 0.0028 - val_loss: 0.0025\n",
      "Epoch 36/50\n",
      "7/7 [==============================] - 4s 627ms/step - loss: 0.0028 - val_loss: 0.0026\n",
      "Epoch 37/50\n",
      "7/7 [==============================] - 4s 644ms/step - loss: 0.0028 - val_loss: 0.0027\n",
      "Epoch 38/50\n",
      "7/7 [==============================] - 5s 650ms/step - loss: 0.0028 - val_loss: 0.0026\n",
      "Epoch 39/50\n",
      "7/7 [==============================] - 5s 656ms/step - loss: 0.0028 - val_loss: 0.0026\n",
      "Epoch 40/50\n",
      "7/7 [==============================] - 4s 627ms/step - loss: 0.0028 - val_loss: 0.0026\n",
      "Epoch 41/50\n",
      "7/7 [==============================] - 4s 601ms/step - loss: 0.0028 - val_loss: 0.0025\n",
      "Epoch 42/50\n",
      "7/7 [==============================] - 4s 598ms/step - loss: 0.0028 - val_loss: 0.0025\n",
      "Epoch 43/50\n",
      "7/7 [==============================] - 4s 621ms/step - loss: 0.0028 - val_loss: 0.0027\n",
      "Epoch 44/50\n",
      "7/7 [==============================] - 4s 607ms/step - loss: 0.0028 - val_loss: 0.0025\n",
      "Epoch 45/50\n",
      "7/7 [==============================] - 4s 602ms/step - loss: 0.0028 - val_loss: 0.0026\n",
      "Epoch 46/50\n",
      "7/7 [==============================] - 4s 590ms/step - loss: 0.0028 - val_loss: 0.0026\n",
      "Epoch 47/50\n",
      "7/7 [==============================] - 4s 585ms/step - loss: 0.0028 - val_loss: 0.0025\n",
      "Epoch 48/50\n",
      "7/7 [==============================] - 4s 571ms/step - loss: 0.0028 - val_loss: 0.0025\n",
      "Epoch 49/50\n",
      "7/7 [==============================] - 4s 575ms/step - loss: 0.0028 - val_loss: 0.0025\n",
      "Epoch 50/50\n",
      "7/7 [==============================] - 4s 568ms/step - loss: 0.0028 - val_loss: 0.0027\n"
     ]
    },
    {
     "data": {
      "text/plain": [
       "<keras.callbacks.History at 0x1705244c0>"
      ]
     },
     "execution_count": 18,
     "metadata": {},
     "output_type": "execute_result"
    }
   ],
   "source": [
    "# Step 3 Train the model\n",
    "model.fit(\n",
    "    X_train,\n",
    "    y_train,\n",
    "    batch_size=512,\n",
    "    epochs=50,\n",
    "    validation_split=0.05)"
   ]
  },
  {
   "cell_type": "code",
   "execution_count": 19,
   "metadata": {
    "executionInfo": {
     "elapsed": 11,
     "status": "aborted",
     "timestamp": 1635353103800,
     "user": {
      "displayName": "Victoria Ajila",
      "photoUrl": "https://lh3.googleusercontent.com/a/default-user=s64",
      "userId": "03727961744353051498"
     },
     "user_tz": 240
    },
    "id": "5boo2rrB-lEN",
    "pycharm": {
     "is_executing": true
    }
   },
   "outputs": [
    {
     "data": {
      "image/png": "[encoded data removed]",
      "text/plain": [
       "<Figure size 432x288 with 1 Axes>"
      ]
     },
     "metadata": {},
     "output_type": "display_data"
    }
   ],
   "source": [
    "# Step 4 - Plot the predictions!\n",
    "\n",
    "predictions = predict_sequences_multiple(model, X_test, 50, 50)\n",
    "plot_results_multiple(predictions, y_test, 50)"
   ]
  },
  {
   "cell_type": "markdown",
   "metadata": {
    "id": "8Nml9zuoAJcw"
   },
   "source": [
    "# Takeaway Messages\n",
    "\n",
    "* Keras is the **high-level API of TensorFlow 2.0**, meant to be an approchable and highly-productive interface for solving machine learning problems, with a focus on modern deep learning.\n",
    "* Convolutional neural networks (CNN) are a class of deep neural networks, **most commonly applied to analyzing visual imagery**. \n",
    "* CNNs are **shift invariant** or **space invariant artificial neural networks**, based on their shared-weights architecture and translation invariance characteristics.\n",
    "* A **benchmark dataset** is a reference database against which learning models are evaluated and performance assessed to determine whether or not a given approach is superior over another.\n",
    "* The CIFAR-10 dataset consists of 60,000 32x32 colour images in 10 classes, with 6,000 images per class. There are 50,000 training images and 10,000 test images.\n",
    "* The **[f1-score](https://scikit-learn.org/stable/modules/generated/sklearn.metrics.f1_score.html)** gives you the **harmonic mean of precision and recall**. The scores corresponding to every class will tell you the accuracy of the classifier in classifying the data points in that particular class compared to all other classes.\n",
    "* The **[support](https://scikit-learn.org/stable/modules/generated/sklearn.metrics.precision_recall_fscore_support.html)** is the **number of samples of the true response** that lie in **that class**.\n",
    "* **Long short-term memory (LSTM)** is an artificial recurrent neural network (RNN) architecture used in the field of deep learning. \n",
    "* Unlike standard feedforward neural networks, LSTMs have feedback connections.\n",
    "* A common architecture is composed of a **cell** (the memory part of the LSTM unit) and three **\"regulators\", usually called gates**, of the flow of information inside the LSTM unit: an **input gate**, an **output gate** and a **forget gate**. \n",
    "* **Vanishing Gradients Problem:** A problem with using gradient descent for standard RNNs is that error gradients vanish exponentially quickly with the size of the time lag between important events.\n"
   ]
  }
 ],
 "metadata": {
  "accelerator": "GPU",
  "colab": {
   "machine_shape": "hm",
   "name": "Tutorial-6_DeepLearning.ipynb",
   "provenance": []
  },
  "interpreter": {
   "hash": "aee8b7b246df8f9039afb4144a1f6fd8d2ca17a180786b69acc140d282b71a49"
  },
  "kernelspec": {
   "display_name": "Python 3.9.7 64-bit",
   "name": "python3"
  },
  "language_info": {
   "codemirror_mode": {
    "name": "ipython",
    "version": 3
   },
   "file_extension": ".py",
   "mimetype": "text/x-python",
   "name": "python",
   "nbconvert_exporter": "python",
   "pygments_lexer": "ipython3",
   "version": "3.9.7"
  }
 },
 "nbformat": 4,
 "nbformat_minor": 0
}
